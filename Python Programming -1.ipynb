{
 "cells": [
  {
   "cell_type": "markdown",
   "metadata": {},
   "source": [
    "## Create a Number System"
   ]
  },
  {
   "cell_type": "markdown",
   "metadata": {},
   "source": [
    "Choose a number between 3 and 13 but not 10. We call it a base."
   ]
  },
  {
   "cell_type": "markdown",
   "metadata": {},
   "source": [
    "Base10 - 0,1,2,3,4,5,6,7,8,9\n",
    "Base5 - 0,1,2,3,4,10,11,12,13,14,20,21,22,23,24,30,31,32,33,34,40,41,42,43,44,100.. (woah)\n",
    "Base14 - 0,1,2,3,4,5,6,7,8,9,A,B,C,D,10\n",
    "\n",
    "\n",
    "Basically a number system refers to a set of numbers created through its unique symbols related to the Base.\n",
    "If the base is 14 then it will basically use 14 different symbols to show numbers.\n",
    "Like first 14 would be 0,1,2,3,4,5,6,7,8,9,A,B,C,D,10,11,12,13,14,15,16,17,18,19,"
   ]
  },
  {
   "attachments": {},
   "cell_type": "markdown",
   "metadata": {},
   "source": []
  },
  {
   "cell_type": "code",
   "execution_count": null,
   "metadata": {},
   "outputs": [],
   "source": []
  }
 ],
 "metadata": {
  "kernelspec": {
   "display_name": "Python 3",
   "language": "python",
   "name": "python3"
  },
  "language_info": {
   "codemirror_mode": {
    "name": "ipython",
    "version": 3
   },
   "file_extension": ".py",
   "mimetype": "text/x-python",
   "name": "python",
   "nbconvert_exporter": "python",
   "pygments_lexer": "ipython3",
   "version": "3.6.8"
  },
  "toc": {
   "base_numbering": 1,
   "nav_menu": {},
   "number_sections": true,
   "sideBar": true,
   "skip_h1_title": false,
   "title_cell": "Table of Contents",
   "title_sidebar": "Contents",
   "toc_cell": false,
   "toc_position": {},
   "toc_section_display": true,
   "toc_window_display": false
  }
 },
 "nbformat": 4,
 "nbformat_minor": 2
}
